{
 "cells": [
  {
   "cell_type": "markdown",
   "metadata": {
    "deletable": true,
    "editable": true
   },
   "source": [
    "# Implement a 2-layer Neural Network using Backpropagation"
   ]
  },
  {
   "cell_type": "code",
   "execution_count": null,
   "metadata": {
    "collapsed": true,
    "deletable": true,
    "editable": true
   },
   "outputs": [],
   "source": [
    "# Import packages\n",
    "import numpy as np\n",
    "import sklearn\n",
    "from sklearn import datasets\n",
    "import matplotlib.pyplot as plt\n",
    "%matplotlib inline"
   ]
  },
  {
   "cell_type": "code",
   "execution_count": null,
   "metadata": {
    "collapsed": false,
    "deletable": true,
    "editable": true
   },
   "outputs": [],
   "source": [
    "# Generate a toy dataset and plot it\n",
    "np.random.seed(0)\n",
    "X, y = sklearn.datasets.make_moons(200, noise=0.20)\n",
    "plt.scatter(X[:,0], X[:,1], s=40, c=y, cmap=plt.cm.Spectral)"
   ]
  },
  {
   "cell_type": "code",
   "execution_count": null,
   "metadata": {
    "collapsed": false,
    "deletable": true,
    "editable": true
   },
   "outputs": [],
   "source": [
    "# Define helper functions\n",
    "\n",
    "def predict(W, X):\n",
    "    \n",
    "    # Forward pass\n",
    "    z_h1 = np.dot(X, W['W_input_h1']) + W['b_input_h1']\n",
    "    a_h1 = np.tanh(z_h1)\n",
    "\n",
    "    z_h2 = np.dot(a_h1, W['W_h1_h2']) + W['b_h1_h2']\n",
    "    a_h2 = np.tanh(z_h2)\n",
    "    output = np.dot(a_h2, W['W_h2_output']) + W['b_h2_output']\n",
    "\n",
    "    probs = sigmoid(output)\n",
    "    probs = probs.squeeze()\n",
    "    \n",
    "    predictions = np.zeros(probs.shape[0])\n",
    "    predictions[probs>0.5] = 1\n",
    "    \n",
    "    return predictions\n",
    "\n",
    "def cross_entropy_loss(t_hat, t):\n",
    "    return np.sum(-(t*np.log(t_hat) + (1-t)*np.log(1-t_hat)))\n",
    "\n",
    "def sigmoid(x):\n",
    "    return 1/(1 + np.exp(-x))\n",
    "\n",
    "def sigmoid_grad(x):\n",
    "    return sigmoid(x)*(1-sigmoid(x))\n",
    "\n",
    "def tanh_grad(x):\n",
    "    return 1 - np.tanh(x)**2\n",
    "\n",
    "def plot_decision_boundary(W):\n",
    "    # Set min and max values and give it some padding\n",
    "    x_min, x_max = X[:, 0].min() - .5, X[:, 0].max() + .5\n",
    "    y_min, y_max = X[:, 1].min() - .5, X[:, 1].max() + .5\n",
    "    h = 0.01\n",
    "    # Generate a grid of points with distance h between them\n",
    "    xx, yy = np.meshgrid(np.arange(x_min, x_max, h), np.arange(y_min, y_max, h))\n",
    "    # Predict the function value for the whole gid\n",
    "    Z = predict(W, np.c_[xx.ravel(), yy.ravel()])\n",
    "    Z = Z.reshape(xx.shape)\n",
    "    # Plot the contour and training examples\n",
    "    plt.contourf(xx, yy, Z, cmap=plt.cm.Spectral)\n",
    "    plt.scatter(X[:, 0], X[:, 1], c=y, cmap=plt.cm.Spectral) "
   ]
  },
  {
   "cell_type": "code",
   "execution_count": null,
   "metadata": {
    "collapsed": true,
    "deletable": true,
    "editable": true
   },
   "outputs": [],
   "source": [
    "# Create the model architecture\n",
    "input_dim = 2\n",
    "nodes_hidden_1 = 3\n",
    "nodes_hidden_2 = 3\n",
    "output_dim = 1\n",
    "\n",
    "W = {\n",
    "    'W_input_h1' : np.random.rand(input_dim, nodes_hidden_1),\n",
    "    'b_input_h1' : np.random.rand(nodes_hidden_1),\n",
    "\n",
    "    'W_h1_h2' : np.random.rand(nodes_hidden_1, nodes_hidden_2),\n",
    "    'b_h1_h2' : np.random.rand(nodes_hidden_2),\n",
    "\n",
    "    'W_h2_output' : np.random.rand(nodes_hidden_2, output_dim),\n",
    "    'b_h2_output' : np.random.rand(output_dim)\n",
    "}"
   ]
  },
  {
   "cell_type": "code",
   "execution_count": null,
   "metadata": {
    "collapsed": false,
    "deletable": true,
    "editable": true,
    "scrolled": false
   },
   "outputs": [],
   "source": [
    "# Train using Gradient Descent\n",
    "\n",
    "learning_rate = 0.01\n",
    "no_epochs = 2000\n",
    "\n",
    "for epoch in range(no_epochs):\n",
    "\n",
    "    # Forward pass\n",
    "    z_h1 = np.dot(X, W['W_input_h1']) + W['b_input_h1']\n",
    "    #print(z_h1[1,1])\n",
    "    a_h1 = np.tanh(z_h1)\n",
    "    #print( W['W_input_h1'])  \n",
    "    \n",
    "    z_h2 = np.dot(a_h1, W['W_h1_h2']) + W['b_h1_h2']\n",
    "    #print(z_h2.shape)\n",
    "    a_h2 = np.tanh(z_h2)\n",
    "    #print(a_h2.shape)\n",
    "    output = np.dot(a_h2, W['W_h2_output']) + W['b_h2_output']\n",
    "    #print(W['W_input_h1'].shape)\n",
    "    \n",
    "    probs = sigmoid(output)\n",
    "    probs = probs.squeeze()\n",
    "    \n",
    "    #~~~~~~~~~~~ YOUR CODE BEGINS HERE ~~~~~~~~~~~~~~~~\n",
    "    \n",
    "    delta3 = (probs - y).reshape(2000,1)\n",
    "    #print(delta3.shape)\n",
    "    #print(W['W_h2_output'].shape)\n",
    "    #print(a_h1.shape)\n",
    "    dWout = a_h2.T @ delta3\n",
    "    dbout = np.sum(delta3, axis=0, keepdims=True).reshape(output_dim,)\n",
    "    delta2 = delta3 @ W['W_h2_output'].T * (1 - np.power(a_h1, 2))\n",
    "    dW2 = a_h1.T @ delta2\n",
    "    #print(dW2.shape)\n",
    "    db2 = np.sum(delta2, axis=0, keepdims=True).reshape(nodes_hidden_2,)\n",
    "    delta1 = delta2 @ W['W_h1_h2'].T * (1 - np.power(a_h2, 2))\n",
    "    dW1 = X.T @ delta1\n",
    "    #print(dW1.shape)\n",
    "    db1 = np.sum(delta1, axis=0, keepdims=True).reshape(nodes_hidden_1,)\n",
    "    #print(W['b_input_h1'].shape)\n",
    "    \n",
    "    # Gradient Descent\n",
    "    W['W_input_h1'] += -1 * learning_rate * dW1\n",
    "    W['b_input_h1'] += -1 * learning_rate * db1\n",
    "    W['W_h1_h2'] += -1 * learning_rate * dW2\n",
    "    W['b_h1_h2'] += -1 * learning_rate * db2\n",
    "    W['W_h2_output'] += -1 * learning_rate * dWout        \n",
    "    W['b_h2_output'] += -1 * learning_rate * dbout\n",
    "    \n",
    "    #~~~~~~~~~~~ YOUR CODE ENDS HERE ~~~~~~~~~~~~~~~~~~\n",
    "\n",
    "    loss = cross_entropy_loss(probs, y)\n",
    "    \n",
    "    if epoch%100 == 0:\n",
    "        print(\"Loss after epoch \", epoch, \" : \", loss)"
   ]
  },
  {
   "cell_type": "code",
   "execution_count": null,
   "metadata": {
    "collapsed": false,
    "deletable": true,
    "editable": true
   },
   "outputs": [],
   "source": [
    "# Plot the decision boundary\n",
    "plot_decision_boundary(W)"
   ]
  },
  {
   "cell_type": "code",
   "execution_count": null,
   "metadata": {
    "collapsed": true,
    "deletable": true,
    "editable": true
   },
   "outputs": [],
   "source": []
  }
 ],
 "metadata": {
  "kernelspec": {
   "display_name": "Python [Root]",
   "language": "python",
   "name": "Python [Root]"
  },
  "language_info": {
   "codemirror_mode": {
    "name": "ipython",
    "version": 3
   },
   "file_extension": ".py",
   "mimetype": "text/x-python",
   "name": "python",
   "nbconvert_exporter": "python",
   "pygments_lexer": "ipython3",
   "version": "3.5.2"
  }
 },
 "nbformat": 4,
 "nbformat_minor": 2
}
